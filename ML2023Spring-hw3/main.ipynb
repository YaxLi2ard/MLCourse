{
 "cells": [
  {
   "cell_type": "code",
   "execution_count": 1,
   "id": "c4dc5cec-661b-4ae1-b0e2-d01c40dcddd2",
   "metadata": {},
   "outputs": [
    {
     "name": "stdout",
     "output_type": "stream",
     "text": [
      "/root/autodl-tmp/MLCourseDataset/ml2023spring-hw3\n"
     ]
    },
    {
     "name": "stderr",
     "output_type": "stream",
     "text": [
      "/root/miniconda3/lib/python3.10/site-packages/IPython/core/magics/osm.py:417: UserWarning: using dhist requires you to install the `pickleshare` library.\n",
      "  self.shell.db['dhist'] = compress_dhist(dhist)[-100:]\n"
     ]
    },
    {
     "name": "stdout",
     "output_type": "stream",
     "text": [
      "ml2023spring-hw3.zip  test  train  valid\n"
     ]
    }
   ],
   "source": [
    "# 解压数据集\n",
    "%cd /root/autodl-tmp/MLCourseDataset/ml2023spring-hw3\n",
    "!rm -rf train\n",
    "!rm -rf valid\n",
    "!rm -rf test\n",
    "!unzip -q ml2023spring-hw3.zip\n",
    "!dir"
   ]
  },
  {
   "cell_type": "code",
   "execution_count": null,
   "id": "1afd6494-4c60-4bb9-9e55-794c753085f0",
   "metadata": {},
   "outputs": [],
   "source": []
  }
 ],
 "metadata": {
  "kernelspec": {
   "display_name": "Python 3 (ipykernel)",
   "language": "python",
   "name": "python3"
  },
  "language_info": {
   "codemirror_mode": {
    "name": "ipython",
    "version": 3
   },
   "file_extension": ".py",
   "mimetype": "text/x-python",
   "name": "python",
   "nbconvert_exporter": "python",
   "pygments_lexer": "ipython3",
   "version": "3.10.8"
  }
 },
 "nbformat": 4,
 "nbformat_minor": 5
}
